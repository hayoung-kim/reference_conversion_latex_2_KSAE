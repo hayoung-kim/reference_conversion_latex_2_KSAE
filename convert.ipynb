{
 "cells": [
  {
   "cell_type": "code",
   "execution_count": 1,
   "metadata": {},
   "outputs": [],
   "source": [
    "def authors2template(authors):\n",
    "    author_strings = []\n",
    "    for author in authors.split(' and '):\n",
    "        print(author.strip())\n",
    "        comma_splited = author.strip().split(',')\n",
    "        letter = comma_splited[1][1]\n",
    "        author_string = '%s. %s' % (letter, comma_splited[0])\n",
    "        author_strings.append(author_string)\n",
    "    print(' ')\n",
    "    return(', '.join(author_strings[:-1]) + \" and \" + author_strings[-1])"
   ]
  },
  {
   "cell_type": "code",
   "execution_count": 2,
   "metadata": {},
   "outputs": [],
   "source": [
    "def strings2template(strings):\n",
    "    string_list = strings.strip().split('\\n')\n",
    "    string_list\n",
    "    publication_dict = {\n",
    "        'title': None, 'authors': None, 'page': None, 'conf': None, 'year': None, 'vol': None, 'no': None\n",
    "    }\n",
    "    for _string in string_list[1:-1]:\n",
    "        key, val = _string.strip().split('=')\n",
    "        key = key.strip()\n",
    "        val = val.strip()\n",
    "        val_without_bracket = val[1:-2]\n",
    "#         print val_without_bracket\n",
    "        if key == 'title':\n",
    "            publication_dict['title'] = val_without_bracket\n",
    "        if key == 'author':\n",
    "            publication_dict['authors'] = authors2template(val_without_bracket)\n",
    "        if key == 'pages':\n",
    "            start_page = val_without_bracket.split('--')[0]\n",
    "            end_page = start_page = val_without_bracket.split('--')[-1]\n",
    "            publication_dict['page'] = '-'.join([start_page, end_page])\n",
    "        if key == 'booktitle' or key == 'journal':\n",
    "            conference_name = [s for s in val_without_bracket.split() if not s.isdigit()]\n",
    "            publication_dict['conf'] = ' '.join(conference_name)\n",
    "        if key == 'year':\n",
    "            publication_dict['year'] = val[1:5]\n",
    "        if key == 'volume':\n",
    "            publication_dict['vol'] = val_without_bracket\n",
    "        if key == 'number':\n",
    "            publication_dict['no'] = val_without_bracket\n",
    "\n",
    "    if publication_dict['vol'] is None:\n",
    "        reference_template = '{}, \"{}\", {}, pp.{}, {}'.format(\n",
    "            publication_dict['authors'],\n",
    "            publication_dict['title'],\n",
    "            publication_dict['conf'],\n",
    "            publication_dict['page'],\n",
    "            publication_dict['year']\n",
    "        )\n",
    "    else:\n",
    "        reference_template = '{}, \"{}\", {}, Vol.{}, No.{}, pp.{}, {}'.format(\n",
    "            publication_dict['authors'],\n",
    "            publication_dict['title'],\n",
    "            publication_dict['conf'],\n",
    "            publication_dict['vol'],\n",
    "            publication_dict['no'],\n",
    "            publication_dict['page'],\n",
    "            publication_dict['year']\n",
    "        )\n",
    "\n",
    "    print(reference_template)"
   ]
  },
  {
   "cell_type": "code",
   "execution_count": 3,
   "metadata": {},
   "outputs": [
    {
     "name": "stdout",
     "output_type": "stream",
     "text": [
      "Sutskever, Ilya\n",
      "Vinyals, Oriol\n",
      "Le, Quoc V\n",
      " \n",
      "I. Sutskever, O. Vinyals and Q. Le, \"Sequence to sequence learning with neural networks\", Advances in neural information processing systems, pp.3112-3112, 2014\n"
     ]
    }
   ],
   "source": [
    "strings = \"\"\"\n",
    "{sutskever2014sequence,\n",
    "  title={Sequence to sequence learning with neural networks},\n",
    "  author={Sutskever, Ilya and Vinyals, Oriol and Le, Quoc V},\n",
    "  booktitle={Advances in neural information processing systems},\n",
    "  pages={3104--3112},\n",
    "  year={2014}\n",
    "}\n",
    "\"\"\"\n",
    "strings2template(strings)"
   ]
  }
 ],
 "metadata": {
  "kernelspec": {
   "display_name": "Python 2",
   "language": "python",
   "name": "python2"
  },
  "language_info": {
   "codemirror_mode": {
    "name": "ipython",
    "version": 2
   },
   "file_extension": ".py",
   "mimetype": "text/x-python",
   "name": "python",
   "nbconvert_exporter": "python",
   "pygments_lexer": "ipython2",
   "version": "2.7.17"
  }
 },
 "nbformat": 4,
 "nbformat_minor": 2
}
